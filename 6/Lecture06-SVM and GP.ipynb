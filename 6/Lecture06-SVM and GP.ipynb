{
 "cells": [
  {
   "cell_type": "markdown",
   "id": "moral-sight",
   "metadata": {},
   "source": [
    "# SVM and GP Demonstration\n",
    "\n",
    "<p><a name=\"sections\"></a></p>\n",
    "\n",
    "\n",
    "## Sections\n",
    "\n",
    "- <a href=\"#svm\">Support Vector Machine</a><br>\n",
    "- <a href=\"#svm-sklearn\">SVM in Scikit Learn</a><br>\n",
    " - <a href=\"#1caes1\">Case 1: Binary Classification</a><br>\n",
    " - <a href=\"#1caes2\">Case 2: Multiclass Classification</a><br>\n",
    " - <a href=\"#1caes3\">Case 3: Grid Search</a><br>\n",
    "- <a href=\"#GP\">Gaussian Processes</a><br>"
   ]
  },
  {
   "cell_type": "markdown",
   "id": "consistent-prague",
   "metadata": {},
   "source": [
    "<p><a name=\"svm\"></a></p>\n",
    "\n",
    "## Support Vector Machines\n",
    "\n",
    "- Support vector machines (SVMs) are supervised learning methods used for classification analysis. (Remember that SVM can be used for a regression problem but it is originally an extension version of perceptron.)\n",
    "\n",
    "- Unlike linear discriminant analysis or logistic regression, SVMs approach the two-class classification problem in a direct way: construct linear decision boundaries, by explicitly separating the data in two different classes as well as possible.\n",
    "\n",
    "- The decision boundaries are called **hyperplanes** in the feature space."
   ]
  },
  {
   "cell_type": "markdown",
   "id": "least-february",
   "metadata": {},
   "source": [
    "### Hyperplanes\n",
    "\n",
    "A hyperplane of a *p-dimensional* space *V* is a subspace of dimension *p-1*.\n",
    "\n",
    "- A hyperplane can be described with a single linear equation of the form (in Cartesian coordinates):\n",
    "\n",
    "$$w_0 + w_1 X_1 + ... + w_p X_p = 0$$\n",
    "\n",
    "  - It is more convenient to be written in the matrix form $w_0 + w^T X = 0$, where $w = (w_1, ... w_p)$ and $X = (X_1, ... X_p)$ are *p-dimensional* vectors.\n",
    "  \n",
    "  - In a 2-dimensional space, a hyperplane is a line and in a 3-dimensional space it is a plane.\n",
    "\n",
    "\n",
    "- The coefficient vector $\\vec{w}$ is the **normal vector** - a vector orthogonal to the surface of that hyperplane.\n",
    "\n",
    "- In some cases we need to work with the normalized form: $w^* = w / \\lvert w \\rvert$, or equivalently, to require that $\\sum_i^p w_i^2 = 1$\n",
    "\n",
    "Some properties:\n",
    "\n",
    "- For any point $x_0$ in the hyperplane, $w^T x_0 = -w_0$\n",
    "\n",
    "- For any two points $x_1$ and $x_2$ lying in the hyperplane, we always have $w^T (x_1 - x_2) = 0$, that is, the normal vector $w$ is perpendicular to any vectors within the hyperplane.\n",
    "\n",
    "- The signed distance of any point $x$ to the hyperplane is given by:\n",
    "\n",
    "$$f(x) = \\frac{1}{\\lvert w \\rvert}(w^T x + w_0)$$\n",
    "\n",
    "### Hyperplanes\n",
    "\n",
    "A hyperplane of a *p-dimensional* space *V* is a subspace of dimension *p-1*.\n",
    "\n",
    "- A hyperplane can be described with a single linear equation of the form (in Cartesian coordinates):\n",
    "\n",
    "$$w_0 + w_1 X_1 + ... + w_p X_p = 0$$\n",
    "\n",
    "  - It is more convenient to be written in the matrix form $w_0 + w^T X = 0$, where $w = (w_1, ... w_p)$ and $X = (X_1, ... X_p)$ are *p-dimensional* vectors.\n",
    "  \n",
    "  - In a 2-dimensional space, a hyperplane is a line and in a 3-dimensional space it is a plane.\n",
    "\n",
    "\n",
    "- The coefficient vector $\\vec{w}$ is the **normal vector** - a vector orthogonal to the surface of that hyperplane.\n",
    "\n",
    "- In some cases we need to work with the normalized form: $w^* = w / \\lvert w \\rvert$, or equivalently, to require that $\\sum_i^p w_i^2 = 1$\n",
    "\n",
    "Some properties:\n",
    "\n",
    "- For any point $x_0$ in the hyperplane, $w^T x_0 = -w_0$\n",
    "\n",
    "- For any two points $x_1$ and $x_2$ lying in the hyperplane, we always have $w^T (x_1 - x_2) = 0$, that is, the normal vector $w$ is perpendicular to any vectors within the hyperplane.\n",
    "\n",
    "- The signed distance of any point $x$ to the hyperplane is given by:\n",
    "\n",
    "$$f(x) = \\frac{1}{\\lvert w \\rvert}(w^T x + w_0)$$\n",
    "\n",
    "### Separating Hyperplanes\n",
    "\n",
    "- If we assume that the data can be well separated by a hyperplane defined by $f(X) = w_0 + w^T X = 0$, then:\n",
    "\n",
    "  - $f(X) > 0$, for points on one side of the hyperplane,\n",
    "  - $f(X) < 0$, for points on the other side.\n",
    "\n",
    "- We coded the two classes as:\n",
    "\n",
    "  - $y = 1$, for $f(X) > 0$\n",
    "  - $y = -1$, for $f(X) < 0$\n",
    "\n",
    "- The distances times the classes become positive: $y_i \\cdot f(X_i) > 0$\n",
    "\n",
    "### Optimal Separating Hyperplanes\n",
    "\n",
    "- The goal is to **maximize** the margin, defined by the distance from the data point to a hyperplane,  between the two classes on the training data.\n",
    "\n",
    "- The data points that are used to determine the margins are called **support vectors**.\n",
    "\n",
    "### Maximal Margin Classifier\n",
    "\n",
    "The optimal separating hyperplane leads to a constrained optimization problem:\n",
    "\n",
    "$$\\underset{w_0, \\lvert w \\rvert = 1}{\\mathrm{max}} M$$\n",
    "\n",
    "$$\\mbox{subject to  }y_i(x_i^T w + w_0) \\geq M, i = 1, ..., N$$\n",
    "\n",
    "The set of conditions ensure that the distances from all the points to the decision boundary defined by $w$ and $w_0$ are at least $M$, and we seek the largest $M$ by varying the parameters.\n",
    "\n",
    "We can get rid of the constraint $\\lvert w \\rvert = 1$ by replacing the condition with:\n",
    "\n",
    "$$y_i(x_i^T w + w_0) \\geq M \\lvert w \\rvert$$\n",
    "\n",
    "For any $w$ and $w_0$ satisfying the inequalities, any positively scaled multiple satisfies them too. If we set $\\lvert w \\rvert = 1/M$, we can rephrase the problem to a more convenient form by dropping the norm constraint on $w$:\n",
    "\n",
    "$$\\underset{w_0, w}{\\mathrm{min}} \\frac{1}{2}\\lvert w \\rvert^2$$\n",
    "\n",
    "$$\\mbox{subject to  }y_i(x_i^T w + w_0) \\geq 1$$\n",
    "\n",
    "This is a convex quadratic problem, and can be solved efficiently.\n",
    "\n",
    "### Noisy Data\n",
    "\n",
    "- The technique for constructing an optimal separating hyperplane can be applied to cases of two perfectly separated classes.\n",
    "\n",
    "- However, sometimes the data can be noisy, which can lead to a poor solution for the maximal margin classifier.\n",
    "\n",
    "### Non-separable Data\n",
    "\n",
    "- Even worse, quite often the data is not separable by a linear boundary.\n",
    "\n",
    "- What shall we do?\n",
    "\n",
    "### The Support Vector Classifier\n",
    "\n",
    "- To tolerate noise and errors, we still maximize M but meanwhile allow some points to be on the wrong side of the hyperplane.\n",
    "\n",
    "- We introduce “slack” variables $\\epsilon = (\\epsilon_1, ... \\epsilon_N)$ with $\\epsilon_i \\geq 0$ and $\\sum_i \\epsilon_i \\leq \\mbox{Const}$, and modify the optimization problem to be:\n",
    "\n",
    "$$\n",
    "\\underset{w_0, \\epsilon, \\lvert w \\rvert = 1}{\\mathrm{max}} M\n",
    "$$\n",
    "\n",
    "$$\n",
    "\\mbox{ subject to }\n",
    "\\begin{cases}\n",
    "y_i(x_i^T w + w_0) \\geq M (1 - \\epsilon_i)\n",
    "\\\\\n",
    "\\epsilon_i \\geq 0 \\mbox{, and } \\sum_i \\epsilon_i \\leq \\mbox{Const}\n",
    "\\end{cases}\n",
    "$$\n",
    "\n",
    "- $\\epsilon_i$ are proportional to the amount by which the prediction is on the wrong side of their margin. \n",
    "- Misclassifications occur when $\\epsilon_i > 1$. So given that the constraint $\\sum \\epsilon_i = \\mbox{Const}$, the total number of misclassifications will be bounded by $\\mbox{Const}$.\n",
    "\n",
    "- The effect of the data points that fall into the margin will be penalized by the slack variable $\\epsilon$.\n",
    "\n",
    "\n",
    "Computationally it's convenient to use the form:\n",
    "\n",
    "$$\n",
    "\\underset{w_0, w}{\\mathrm{min}} \\big( \\frac{1}{2} \\lvert w \\rvert^2 + C \\sum_{i=1}^N \\epsilon_i \\big)\n",
    "$$\n",
    "\n",
    "$$\n",
    "\\mbox{ subject to }\n",
    "\\begin{cases}\n",
    "y_i(x_i^T w + w_0) \\geq 1 - \\epsilon_i\n",
    "\\\\\n",
    "\\epsilon_i \\geq 0\n",
    "\\end{cases}\n",
    "$$\n",
    "\n",
    "where $C$ is the penalty parameter of the error term.\n",
    "\n",
    "- If $C$ is close to 0 then we have a wide, soft margin.\n",
    "\n",
    "- If $C$ is large then we are close to the hard-margin formulation.\n",
    "\n",
    "### Beyond Linearity\n",
    "\n",
    "The support vector classifier described so far finds linear boundaries in the feature space.\n",
    "\n",
    "In reality, it's very unlikely that the true boundary is actually linear in $X$.\n",
    "\n",
    "If a linear boundary fails, we need to move beyond linearity. \n",
    "\n",
    "The core idea is to enlarge the features $X$ using basis expansions such as polynomials, and then use linear models in the enlarged space of derived input features, and translate to nonlinear boundaries in the original space.\n",
    "\n",
    "Example: \n",
    "- We enlarge the feature space $(X_1, X_2)$ to $(X_1, X_2, X_1^2, X_2^2, X_1X_2)$\n",
    "- The boundary is then a hyperplane in *5-dimensional* space determined by:\n",
    "$$\n",
    "w_0 + w_1 X_1 + w_2 X_2, + w_3 X_1^2 + w_4 X_1 X_2 + w_4 X_2^2 = 0\n",
    "$$\n",
    "\n",
    "*Examples*\n",
    "\n",
    "### Kernels\n",
    "\n",
    "- In general, the idea for nonlinearity is to map the feature X to a high dimensional space by some mapping functions $h(x)$.\n",
    "\n",
    "- Notice that only the inner-products of the input vectors play a role in the optimization problem (the proof of this requires to derive a so called Lagrangian dual function which is beyond the scope of this course).\n",
    "\n",
    "- A more elegant and controlled way to have nonlinear boundaries is to use kernels.\n",
    "\n",
    "- We first introduce the notation for inner product of two vectors:\n",
    "\n",
    "$$\\left \\langle x, x^\\prime \\right \\rangle = \\sum_{i=1}^p x_i x_i^\\prime$$\n",
    "\n",
    "- It can be mathematically proven that the linear vector classifier can be represented as\n",
    "\n",
    "$$f(x) = \\beta_0 + \\sum_{i=1}^N \\alpha_i y_i\\left \\langle x, x_i \\right \\rangle$$\n",
    "\n",
    "- where $\\alpha_i > 0$ are parameters subject to $0 < \\alpha_i < C$. For the data points that are not  support vectors, their $\\alpha_i$ are equal to 0.\n",
    "\n",
    "- Since the support vector classifiers involve the mapping h(X) only through inner products, instead of specifying the transformation, we only need to provide a kernel function\n",
    "\n",
    "$$K(x, x^\\prime) = \\left \\langle h(x), h(x^\\prime) \\right \\rangle$$\n",
    "\n",
    "- Some popular choices for kernel functions for SVMs are:\n",
    "\n",
    "  - *d*th-Degree polynomial: $K(x, x^\\prime) = (1+\\left \\langle x, x^\\prime \\right \\rangle)^d$\n",
    "  \n",
    "  - Radial basis: $K(x, x^\\prime) = \\exp(-\\gamma \\lvert x - x^\\prime \\rvert)^2$\n",
    "  \n",
    "  \n",
    "$$f(x) = \\beta_0 + \\sum_{i=1}^N \\alpha_i y_i K(x, x_i)$$"
   ]
  },
  {
   "cell_type": "markdown",
   "id": "coordinated-dating",
   "metadata": {},
   "source": [
    "<p><a name=\"svm-sklearn\"></a></p>\n",
    "\n",
    "## SVM in Scikit Learn\n",
    "\n",
    "- In order to implement SVM in python, import **svm** module from sklearn library.\n"
   ]
  },
  {
   "cell_type": "code",
   "execution_count": 3,
   "id": "coupled-slovak",
   "metadata": {},
   "outputs": [
    {
     "data": {
      "text/plain": [
       "SVC(C=100000.0, degree=1, kernel='poly')"
      ]
     },
     "execution_count": 3,
     "metadata": {},
     "output_type": "execute_result"
    }
   ],
   "source": [
    "%matplotlib inline\n",
    "from sklearn import svm\n",
    "svm_model = svm.SVC(kernel='poly', C=1e5, degree=1)\n",
    "svm_model"
   ]
  },
  {
   "cell_type": "markdown",
   "id": "naked-demographic",
   "metadata": {},
   "source": [
    "- Here we choose the 'poly' kernel, and set the degree equals to 1, which means a linear boundary.\n",
    "- $C=1e5$ is used to decrease the effect of the error term."
   ]
  },
  {
   "cell_type": "markdown",
   "id": "working-asian",
   "metadata": {},
   "source": [
    "### Kernels\n",
    "\n",
    "These are the kernels that sklearn offers:\n",
    "\n",
    "- **linear**: $<x_1, x_2>$.\n",
    "- **polynomial**: $(\\gamma <x_1, x_2> + r)^d$. $d$ is specified by the argument `degree`, $r$ by `coef0`.\n",
    "- **rbf**: $\\exp(-\\gamma \\parallel x_1-x_2 \\parallel^2)$. $\\gamma$ is specified by the argument `gamma`, must be greater than 0.\n",
    "- **sigmoid**: $(\\tanh(\\gamma <x_1,x_2> + r))$, where $r$ is specified by `coef0`.\n",
    "\n",
    "The linear kernel is the original feature space. In terms of the polynomial kernel, it's equivalent to linear kernel when $\\gamma=1$ and $r=0$.\n",
    "\n",
    "### Arguments:\n",
    "\n",
    "- **kernel**: Specifies the kernel type to be used in the algorithm. It must be one of ‘linear’, ‘poly’, ‘rbf’, ‘sigmoid’, ‘precomputed’ or a callable. If none is given, ‘rbf’ will be used. If a callable is given, it is used to precompute the kernel matrix.\n",
    "\n",
    "- **C**: Penalty parameter of the error term. $C=1$ by default.\n",
    "\n",
    "- **degree**: Degree of the polynomial kernel function (‘poly’). Ignored by all other kernels.\n",
    "\n",
    "### Methods:\n",
    "\n",
    "- **fit**: Fit the SVM model according to the given training data.\n",
    "- **score**: Return the mean accuracy on the given test data and labels.\n",
    "- **predict**: Perform classification on samples in X.\n",
    "- **set_params**: Set the parameters of this estimator.\n",
    "- **get_params**: Get the parameters of this estimator.\n",
    "\n",
    "### Attributes:\n",
    "\n",
    "- **support\\_**: return the index of the support vectors.\n",
    "- **n\\_support\\_**: return the number of support vectors.\n",
    "- **support\\_vectors\\_**: return the value of support vectors.\n",
    "- **dual\\_coef\\_**: return the Lagragian multiplier $\\alpha\\times$Label in array."
   ]
  },
  {
   "cell_type": "markdown",
   "id": "informative-climate",
   "metadata": {},
   "source": [
    "<p><a name=\"1case1\"></a></p>\n",
    "\n",
    "### Case 1: Binary Classification\n",
    "\n",
    "We demonstrate the `svm` model on the first 100 observation of the iris data, which include two species. For the additional information, https://scikit-learn.org/stable/modules/generated/sklearn.svm.SVC.html"
   ]
  },
  {
   "cell_type": "code",
   "execution_count": 4,
   "id": "legal-index",
   "metadata": {},
   "outputs": [
    {
     "data": {
      "text/plain": [
       "SVC(C=100000.0, degree=1, kernel='poly')"
      ]
     },
     "execution_count": 4,
     "metadata": {},
     "output_type": "execute_result"
    }
   ],
   "source": [
    "import numpy as np\n",
    "from sklearn import datasets\n",
    "## prepare data\n",
    "iris = datasets.load_iris()\n",
    "index = range(100)\n",
    "iris.x = iris.data[index, :]\n",
    "iris.y = iris.target[index]\n",
    "## fit\n",
    "svm_model.fit(iris.x[:, 0:2], iris.y)"
   ]
  },
  {
   "cell_type": "code",
   "execution_count": 5,
   "id": "upset-mediterranean",
   "metadata": {},
   "outputs": [
    {
     "data": {
      "text/plain": [
       "1.0"
      ]
     },
     "execution_count": 5,
     "metadata": {},
     "output_type": "execute_result"
    }
   ],
   "source": [
    "svm_model.score(iris.x[:,0:2], iris.y)"
   ]
  },
  {
   "cell_type": "code",
   "execution_count": 6,
   "id": "about-desperate",
   "metadata": {},
   "outputs": [
    {
     "data": {
      "text/plain": [
       "array([2, 2], dtype=int32)"
      ]
     },
     "execution_count": 6,
     "metadata": {},
     "output_type": "execute_result"
    }
   ],
   "source": [
    "svm_model.n_support_"
   ]
  },
  {
   "cell_type": "code",
   "execution_count": 7,
   "id": "hidden-binary",
   "metadata": {},
   "outputs": [
    {
     "name": "stdout",
     "output_type": "stream",
     "text": [
      "Index of support vector: [36 41 57 84]\n"
     ]
    }
   ],
   "source": [
    "svm_index = svm_model.support_ # index of support vector\n",
    "print('Index of support vector: ' + str(svm_index))"
   ]
  },
  {
   "cell_type": "code",
   "execution_count": 8,
   "id": "iraqi-berry",
   "metadata": {},
   "outputs": [
    {
     "name": "stdout",
     "output_type": "stream",
     "text": [
      "[[5.5 3.5]\n",
      " [4.5 2.3]\n",
      " [4.9 2.4]\n",
      " [5.4 3. ]]\n"
     ]
    }
   ],
   "source": [
    "## There are two support vectors in each class.\n",
    "\n",
    "support = svm_model.support_vectors_ # value of support vector\n",
    "print(support)"
   ]
  },
  {
   "cell_type": "code",
   "execution_count": 9,
   "id": "subsequent-glossary",
   "metadata": {},
   "outputs": [
    {
     "data": {
      "text/plain": [
       "array([[5.5, 3.5],\n",
       "       [4.5, 2.3],\n",
       "       [4.9, 2.4],\n",
       "       [5.4, 3. ]])"
      ]
     },
     "execution_count": 9,
     "metadata": {},
     "output_type": "execute_result"
    }
   ],
   "source": [
    "iris.x[svm_model.support_, 0:2] # equivalent to svm_model.support_vectors_"
   ]
  },
  {
   "cell_type": "markdown",
   "id": "liable-deficit",
   "metadata": {},
   "source": [
    "As a Lagragian multiplier $\\alpha$ is a positive, it is $\\alpha=$`np.abs(svm_model.dual_coef_)`. You can find `alpha` directly using `dual_coef_`. In other words, `svm_model.dual_coef_[i] = labels[i] * alphas[i]`. "
   ]
  },
  {
   "cell_type": "code",
   "execution_count": 10,
   "id": "grand-tuning",
   "metadata": {},
   "outputs": [
    {
     "data": {
      "text/plain": [
       "array([[-50.55643141, -65.94810692,  65.04641746,  51.45812087]])"
      ]
     },
     "execution_count": 10,
     "metadata": {},
     "output_type": "execute_result"
    }
   ],
   "source": [
    "svm_model.dual_coef_"
   ]
  },
  {
   "cell_type": "code",
   "execution_count": 11,
   "id": "foreign-albany",
   "metadata": {},
   "outputs": [],
   "source": [
    "def plot_model(model, x, y, label):\n",
    "    '''\n",
    "    model: a fitted model\n",
    "    x, y: two variables, should arrays\n",
    "    label: true label\n",
    "    '''\n",
    "    margin = 0.5\n",
    "    x_min = x.min() - margin\n",
    "    x_max = x.max() + margin\n",
    "    y_min = y.min() - margin\n",
    "    y_max = y.max() + margin\n",
    "    import  matplotlib.pyplot as plt\n",
    "    from matplotlib import colors\n",
    "    col_dict = {\n",
    "        'red': [(0, 1, 1), (1, 0.7, 0.7)],\n",
    "        'green': [(0, 1, 0.5), (1, 0.7, 0.7)],\n",
    "        'blue': [(0, 1, 0.5), (1, 1, 1)]\n",
    "    }\n",
    "    cmap = colors.LinearSegmentedColormap('red_blue_classes', col_dict)\n",
    "    plt.cm.register_cmap(cmap=cmap)\n",
    "    nx, ny = 200, 200\n",
    "    xx, yy = np.meshgrid(\n",
    "        np.linspace(x_min, x_max, nx),\n",
    "        np.linspace(y_min, y_max, ny)\n",
    "    )\n",
    "    Z = model.predict(np.c_[xx.ravel(), yy.ravel()])\n",
    "    Z = Z.reshape(xx.shape)\n",
    "    ## plot colormap\n",
    "    plt.pcolormesh(xx, yy, Z, cmap='red_blue_classes')\n",
    "    ## plot boundaries\n",
    "    plt.contour(xx, yy, Z, [0.5], linewidths=1., colors='k')\n",
    "    plt.contour(xx, yy, Z, [1], linewidths=1., colors='k')\n",
    "    ## plot scatters and true labels\n",
    "    plt.scatter(x, y, c=label, edgecolors='k')\n",
    "    plt.xlim(x_min, x_max)\n",
    "    plt.ylim(y_min, y_max)\n",
    "    ## if it's a SVM model\n",
    "    if hasattr(model, 'support_'):\n",
    "        # if it's a SVC, plot the support vectors\n",
    "        index = model.support_\n",
    "        plt.scatter(x[index], y[index], c=label[index], s=200, alpha=0.33, edgecolors='k')"
   ]
  },
  {
   "cell_type": "code",
   "execution_count": 12,
   "id": "competent-notification",
   "metadata": {},
   "outputs": [
    {
     "name": "stderr",
     "output_type": "stream",
     "text": [
      "<ipython-input-11-8856e2b6cec5>:29: MatplotlibDeprecationWarning: shading='flat' when X and Y have the same dimensions as C is deprecated since 3.3.  Either specify the corners of the quadrilaterals with X and Y, or pass shading='auto', 'nearest' or 'gouraud', or set rcParams['pcolor.shading'].  This will become an error two minor releases later.\n",
      "  plt.pcolormesh(xx, yy, Z, cmap='red_blue_classes')\n",
      "<ipython-input-11-8856e2b6cec5>:32: UserWarning: No contour levels were found within the data range.\n",
      "  plt.contour(xx, yy, Z, [1], linewidths=1., colors='k')\n"
     ]
    },
    {
     "data": {
      "image/png": "[encoded data removed]",
      "text/plain": [
       "<Figure size 576x432 with 1 Axes>"
      ]
     },
     "metadata": {
      "needs_background": "light"
     },
     "output_type": "display_data"
    }
   ],
   "source": [
    "import  matplotlib.pyplot as plt\n",
    "plt.rcParams['figure.figsize'] = 8, 6\n",
    "svm_model.fit(iris.data[index, 0:2], iris.target[index])\n",
    "plot_model(svm_model, iris.data[index, 0], iris.data[index, 1], iris.target[index])\n",
    "plt.xlabel('Sepal Length')\n",
    "plt.ylabel('Sepal Width')\n",
    "plt.show()"
   ]
  },
  {
   "cell_type": "markdown",
   "id": "minute-lingerie",
   "metadata": {},
   "source": [
    "#### Change the Degree\n",
    "\n",
    "This time we set *degree=3*, which result in a cubic boundary:"
   ]
  },
  {
   "cell_type": "code",
   "execution_count": 13,
   "id": "alleged-kelly",
   "metadata": {},
   "outputs": [
    {
     "name": "stderr",
     "output_type": "stream",
     "text": [
      "<ipython-input-11-8856e2b6cec5>:29: MatplotlibDeprecationWarning: shading='flat' when X and Y have the same dimensions as C is deprecated since 3.3.  Either specify the corners of the quadrilaterals with X and Y, or pass shading='auto', 'nearest' or 'gouraud', or set rcParams['pcolor.shading'].  This will become an error two minor releases later.\n",
      "  plt.pcolormesh(xx, yy, Z, cmap='red_blue_classes')\n",
      "<ipython-input-11-8856e2b6cec5>:32: UserWarning: No contour levels were found within the data range.\n",
      "  plt.contour(xx, yy, Z, [1], linewidths=1., colors='k')\n"
     ]
    },
    {
     "data": {
      "image/png": "[encoded data removed]",
      "text/plain": [
       "<Figure size 576x432 with 1 Axes>"
      ]
     },
     "metadata": {
      "needs_background": "light"
     },
     "output_type": "display_data"
    }
   ],
   "source": [
    "svm_model.set_params(degree=3)\n",
    "svm_model.fit(iris.data[index, 0:2], iris.target[index])\n",
    "plot_model(svm_model, iris.data[index, 0], iris.data[index, 1], iris.target[index])\n",
    "plt.xlabel('Sepal Length')\n",
    "plt.ylabel('Sepal Width')\n",
    "plt.show()"
   ]
  },
  {
   "cell_type": "markdown",
   "id": "descending-first",
   "metadata": {},
   "source": [
    "\n",
    "- Compute the accuracy."
   ]
  },
  {
   "cell_type": "code",
   "execution_count": 14,
   "id": "bottom-verification",
   "metadata": {},
   "outputs": [
    {
     "data": {
      "text/plain": [
       "1.0"
      ]
     },
     "execution_count": 14,
     "metadata": {},
     "output_type": "execute_result"
    }
   ],
   "source": [
    "svm_model.score(iris.data[index, 0:2], iris.target[index])"
   ]
  },
  {
   "cell_type": "markdown",
   "id": "intended-dressing",
   "metadata": {},
   "source": [
    "- Find out all the support vectors."
   ]
  },
  {
   "cell_type": "code",
   "execution_count": 15,
   "id": "informational-minute",
   "metadata": {},
   "outputs": [
    {
     "data": {
      "text/plain": [
       "array([[5.5, 3.5],\n",
       "       [4.5, 2.3],\n",
       "       [4.9, 2.4]])"
      ]
     },
     "execution_count": 15,
     "metadata": {},
     "output_type": "execute_result"
    }
   ],
   "source": [
    "svm_model.support_vectors_"
   ]
  },
  {
   "cell_type": "markdown",
   "id": "inside-realtor",
   "metadata": {},
   "source": [
    "- Which classes do they belong to?"
   ]
  },
  {
   "cell_type": "code",
   "execution_count": 17,
   "id": "automatic-campaign",
   "metadata": {},
   "outputs": [
    {
     "data": {
      "text/plain": [
       "array([0, 0, 1])"
      ]
     },
     "execution_count": 17,
     "metadata": {},
     "output_type": "execute_result"
    }
   ],
   "source": [
    "svm_model.predict(svm_model.support_vectors_)"
   ]
  },
  {
   "cell_type": "markdown",
   "id": "minor-popularity",
   "metadata": {},
   "source": [
    "<p><a name=\"1case2\"></a></p>\n",
    "\n",
    "### Case 2: Multiclass Classification\n",
    "\n",
    "- In cases of multiclass classification problem, **SVC** implement a *one vs one* approach.\n",
    "\n",
    "- If there are $k$ different classes in total, then $\\frac{k(k-1)}{2}$ classifiers are constructed.\n",
    "\n",
    "For instance, 3 classes 0, 1 and 2 will result in 3 classifiers:\n",
    "\n",
    "- class 0 VS class 1\n",
    "- class 0 VS class 2\n",
    "- class 1 VS class 2\n",
    "\n",
    "\n",
    "\n",
    "This time we use all the observations in the iris data to build a multiclass classifier. And we choose the last two features \"petal length\" and \"petal width\"."
   ]
  },
  {
   "cell_type": "code",
   "execution_count": 18,
   "id": "portuguese-bolivia",
   "metadata": {},
   "outputs": [
    {
     "data": {
      "text/plain": [
       "0.96"
      ]
     },
     "execution_count": 18,
     "metadata": {},
     "output_type": "execute_result"
    }
   ],
   "source": [
    "svm_model.set_params(degree=1) # reset degree to 1 to build a linear classifier\n",
    "svm_model.fit(iris.data[:, 2:4], iris.target) # fit on all the observations\n",
    "svm_model.score(iris.data[:, 2:4], iris.target) # accuracy"
   ]
  },
  {
   "cell_type": "code",
   "execution_count": 19,
   "id": "dimensional-designer",
   "metadata": {},
   "outputs": [
    {
     "data": {
      "text/plain": [
       "array([0])"
      ]
     },
     "execution_count": 19,
     "metadata": {},
     "output_type": "execute_result"
    }
   ],
   "source": [
    "svm_model.predict([[1, 4]])"
   ]
  },
  {
   "cell_type": "code",
   "execution_count": 20,
   "id": "specified-judgment",
   "metadata": {},
   "outputs": [
    {
     "name": "stderr",
     "output_type": "stream",
     "text": [
      "<ipython-input-11-8856e2b6cec5>:29: MatplotlibDeprecationWarning: shading='flat' when X and Y have the same dimensions as C is deprecated since 3.3.  Either specify the corners of the quadrilaterals with X and Y, or pass shading='auto', 'nearest' or 'gouraud', or set rcParams['pcolor.shading'].  This will become an error two minor releases later.\n",
      "  plt.pcolormesh(xx, yy, Z, cmap='red_blue_classes')\n"
     ]
    },
    {
     "data": {
      "image/png": "[encoded data removed]",
      "text/plain": [
       "<Figure size 576x432 with 1 Axes>"
      ]
     },
     "metadata": {
      "needs_background": "light"
     },
     "output_type": "display_data"
    }
   ],
   "source": [
    "plot_model(svm_model, iris.data[:, 2], iris.data[:, 3], iris.target)\n",
    "plt.xlabel('Petal Length')\n",
    "plt.ylabel('Petal Width')\n",
    "plt.show()"
   ]
  },
  {
   "cell_type": "markdown",
   "id": "distant-peeing",
   "metadata": {},
   "source": [
    "Predict the following observations with the model we created and then confirm the result with the visualization in the previous slide.\n",
    "- petal length: 1.5, petal width: 0.5\n",
    "- petal length: 4.0, petal width: 0.5\n",
    "- petal length: 6.0, petal width: 2.5"
   ]
  },
  {
   "cell_type": "code",
   "execution_count": 21,
   "id": "ranking-anthropology",
   "metadata": {},
   "outputs": [
    {
     "data": {
      "text/plain": [
       "array([0, 1, 2])"
      ]
     },
     "execution_count": 21,
     "metadata": {},
     "output_type": "execute_result"
    }
   ],
   "source": [
    "svm_model.predict([[1.5, 0.5], [4.0, 0.5], [6.0, 2.5]])"
   ]
  },
  {
   "cell_type": "markdown",
   "id": "closing-cholesterol",
   "metadata": {},
   "source": [
    "Below we change to a different constant `C` (reset `C = 1` from `C=1e5` to decrease the effect of penalty)"
   ]
  },
  {
   "cell_type": "code",
   "execution_count": 23,
   "id": "younger-certificate",
   "metadata": {},
   "outputs": [
    {
     "data": {
      "text/plain": [
       "0.96"
      ]
     },
     "execution_count": 23,
     "metadata": {},
     "output_type": "execute_result"
    }
   ],
   "source": [
    "svm_model.set_params(C=1)\n",
    "svm_model.fit(iris.data[:, 2:4], iris.target) \n",
    "svm_model.score(iris.data[:, 2:4], iris.target) "
   ]
  },
  {
   "cell_type": "code",
   "execution_count": 24,
   "id": "dynamic-jerusalem",
   "metadata": {},
   "outputs": [
    {
     "name": "stderr",
     "output_type": "stream",
     "text": [
      "<ipython-input-11-8856e2b6cec5>:29: MatplotlibDeprecationWarning: shading='flat' when X and Y have the same dimensions as C is deprecated since 3.3.  Either specify the corners of the quadrilaterals with X and Y, or pass shading='auto', 'nearest' or 'gouraud', or set rcParams['pcolor.shading'].  This will become an error two minor releases later.\n",
      "  plt.pcolormesh(xx, yy, Z, cmap='red_blue_classes')\n"
     ]
    },
    {
     "data": {
      "image/png": "[encoded data removed]",
      "text/plain": [
       "<Figure size 576x432 with 1 Axes>"
      ]
     },
     "metadata": {
      "needs_background": "light"
     },
     "output_type": "display_data"
    }
   ],
   "source": [
    "plot_model(svm_model, iris.data[:, 2], iris.data[:, 3], iris.target)\n",
    "plt.xlabel('Petal Length')\n",
    "plt.ylabel('Petal Width')\n",
    "plt.show()"
   ]
  },
  {
   "cell_type": "markdown",
   "id": "dietary-wallace",
   "metadata": {},
   "source": [
    "<p><a name=\"1caes3\"></a></p>\n",
    "\n",
    "### Case 3: Grid Search\n",
    "\n",
    "There are many parameters to be set in SVM:\n",
    "\n",
    "- Which kernel.\n",
    "- The value of $C. \\quad$\n",
    "- The degree in polynomial kernel.\n",
    "\n",
    "We can use the function **grid_search.GridSearchCV** to select the best combination of parameters. You also can do for other algorithms.\n",
    "For more information: https://scikit-learn.org/stable/modules/generated/sklearn.model_selection.GridSearchCV.html"
   ]
  },
  {
   "cell_type": "code",
   "execution_count": 25,
   "id": "blind-aviation",
   "metadata": {},
   "outputs": [],
   "source": [
    "from sklearn import model_selection\n",
    "grid_para_svm = [\n",
    "    {'C': [1, 10, 100, 1000],\n",
    "     'kernel': ['poly'],\n",
    "     'degree': [1, 2, 3]},\n",
    "    {'C': [1, 10, 100, 1000],\n",
    "     'gamma': [0.001, 0.0001],\n",
    "     'kernel': ['rbf']}\n",
    "]"
   ]
  },
  {
   "cell_type": "code",
   "execution_count": 26,
   "id": "theoretical-climb",
   "metadata": {},
   "outputs": [
    {
     "data": {
      "text/plain": [
       "GridSearchCV(cv=3, estimator=SVC(C=1, degree=1, kernel='poly'), n_jobs=-1,\n",
       "             param_grid=[{'C': [1, 10, 100, 1000], 'degree': [1, 2, 3],\n",
       "                          'kernel': ['poly']},\n",
       "                         {'C': [1, 10, 100, 1000], 'gamma': [0.001, 0.0001],\n",
       "                          'kernel': ['rbf']}],\n",
       "             scoring='accuracy')"
      ]
     },
     "execution_count": 26,
     "metadata": {},
     "output_type": "execute_result"
    }
   ],
   "source": [
    "grid_search_svm = model_selection.GridSearchCV(svm_model, grid_para_svm, scoring='accuracy', cv=3, n_jobs=-1)\n",
    "grid_search_svm.fit(iris.data, iris.target)"
   ]
  },
  {
   "cell_type": "markdown",
   "id": "capital-surge",
   "metadata": {},
   "source": [
    "Inspect the result of grid search."
   ]
  },
  {
   "cell_type": "code",
   "execution_count": 28,
   "id": "urban-detroit",
   "metadata": {},
   "outputs": [
    {
     "name": "stdout",
     "output_type": "stream",
     "text": [
      "['mean_fit_time', 'std_fit_time', 'mean_score_time', 'std_score_time', 'param_C', 'param_degree', 'param_kernel', 'param_gamma', 'params', 'split0_test_score', 'split1_test_score', 'split2_test_score', 'mean_test_score', 'std_test_score', 'rank_test_score']\n"
     ]
    },
    {
     "data": {
      "text/plain": [
       "{'mean_fit_time': array([0.00125472, 0.00131766, 0.00104634, 0.00091227, 0.00093134,\n",
       "        0.00114139, 0.00097299, 0.00099254, 0.00143894, 0.00131806,\n",
       "        0.00115673, 0.00567547, 0.0012087 , 0.00119964, 0.00100764,\n",
       "        0.00128142, 0.00091314, 0.0009617 , 0.00075483, 0.00071597]),\n",
       " 'std_fit_time': array([6.26387314e-05, 7.80034114e-05, 2.00023605e-04, 1.51720329e-05,\n",
       "        7.97692969e-05, 9.22457747e-05, 7.46675326e-05, 1.19609796e-04,\n",
       "        4.12529017e-04, 4.71845340e-04, 2.46367685e-04, 4.41491025e-03,\n",
       "        1.08811087e-05, 3.30169324e-05, 3.85522834e-05, 1.27953772e-05,\n",
       "        5.41733322e-05, 3.23033469e-05, 1.22669699e-04, 4.02162511e-05]),\n",
       " 'mean_score_time': array([0.00074927, 0.00084194, 0.00056934, 0.00048534, 0.00049965,\n",
       "        0.00052595, 0.00053898, 0.00049464, 0.00048836, 0.00052802,\n",
       "        0.00048987, 0.00053422, 0.00060002, 0.00058055, 0.00057745,\n",
       "        0.00063562, 0.00050624, 0.00056537, 0.00043265, 0.00036867]),\n",
       " 'std_score_time': array([1.78865143e-05, 1.86548518e-04, 1.31825137e-04, 2.58266008e-05,\n",
       "        4.81913618e-05, 3.09931926e-05, 4.49342950e-05, 1.42737327e-05,\n",
       "        3.98952173e-05, 1.83859048e-05, 9.46161026e-06, 3.74220136e-05,\n",
       "        4.06894833e-05, 1.18011176e-05, 7.53191423e-06, 4.09668524e-05,\n",
       "        2.04858157e-05, 2.62168907e-05, 6.88641386e-05, 3.25516798e-05]),\n",
       " 'param_C': masked_array(data=[1, 1, 1, 10, 10, 10, 100, 100, 100, 1000, 1000, 1000,\n",
       "                    1, 1, 10, 10, 100, 100, 1000, 1000],\n",
       "              mask=[False, False, False, False, False, False, False, False,\n",
       "                    False, False, False, False, False, False, False, False,\n",
       "                    False, False, False, False],\n",
       "        fill_value='?',\n",
       "             dtype=object),\n",
       " 'param_degree': masked_array(data=[1, 2, 3, 1, 2, 3, 1, 2, 3, 1, 2, 3, --, --, --, --, --,\n",
       "                    --, --, --],\n",
       "              mask=[False, False, False, False, False, False, False, False,\n",
       "                    False, False, False, False,  True,  True,  True,  True,\n",
       "                     True,  True,  True,  True],\n",
       "        fill_value='?',\n",
       "             dtype=object),\n",
       " 'param_kernel': masked_array(data=['poly', 'poly', 'poly', 'poly', 'poly', 'poly', 'poly',\n",
       "                    'poly', 'poly', 'poly', 'poly', 'poly', 'rbf', 'rbf',\n",
       "                    'rbf', 'rbf', 'rbf', 'rbf', 'rbf', 'rbf'],\n",
       "              mask=[False, False, False, False, False, False, False, False,\n",
       "                    False, False, False, False, False, False, False, False,\n",
       "                    False, False, False, False],\n",
       "        fill_value='?',\n",
       "             dtype=object),\n",
       " 'param_gamma': masked_array(data=[--, --, --, --, --, --, --, --, --, --, --, --, 0.001,\n",
       "                    0.0001, 0.001, 0.0001, 0.001, 0.0001, 0.001, 0.0001],\n",
       "              mask=[ True,  True,  True,  True,  True,  True,  True,  True,\n",
       "                     True,  True,  True,  True, False, False, False, False,\n",
       "                    False, False, False, False],\n",
       "        fill_value='?',\n",
       "             dtype=object),\n",
       " 'params': [{'C': 1, 'degree': 1, 'kernel': 'poly'},\n",
       "  {'C': 1, 'degree': 2, 'kernel': 'poly'},\n",
       "  {'C': 1, 'degree': 3, 'kernel': 'poly'},\n",
       "  {'C': 10, 'degree': 1, 'kernel': 'poly'},\n",
       "  {'C': 10, 'degree': 2, 'kernel': 'poly'},\n",
       "  {'C': 10, 'degree': 3, 'kernel': 'poly'},\n",
       "  {'C': 100, 'degree': 1, 'kernel': 'poly'},\n",
       "  {'C': 100, 'degree': 2, 'kernel': 'poly'},\n",
       "  {'C': 100, 'degree': 3, 'kernel': 'poly'},\n",
       "  {'C': 1000, 'degree': 1, 'kernel': 'poly'},\n",
       "  {'C': 1000, 'degree': 2, 'kernel': 'poly'},\n",
       "  {'C': 1000, 'degree': 3, 'kernel': 'poly'},\n",
       "  {'C': 1, 'gamma': 0.001, 'kernel': 'rbf'},\n",
       "  {'C': 1, 'gamma': 0.0001, 'kernel': 'rbf'},\n",
       "  {'C': 10, 'gamma': 0.001, 'kernel': 'rbf'},\n",
       "  {'C': 10, 'gamma': 0.0001, 'kernel': 'rbf'},\n",
       "  {'C': 100, 'gamma': 0.001, 'kernel': 'rbf'},\n",
       "  {'C': 100, 'gamma': 0.0001, 'kernel': 'rbf'},\n",
       "  {'C': 1000, 'gamma': 0.001, 'kernel': 'rbf'},\n",
       "  {'C': 1000, 'gamma': 0.0001, 'kernel': 'rbf'}],\n",
       " 'split0_test_score': array([0.96, 0.98, 0.98, 1.  , 0.98, 1.  , 1.  , 1.  , 1.  , 1.  , 1.  ,\n",
       "        0.98, 0.66, 0.32, 0.94, 0.66, 0.98, 0.94, 1.  , 0.98]),\n",
       " 'split1_test_score': array([0.98, 1.  , 0.94, 1.  , 0.94, 0.92, 0.92, 0.92, 0.92, 0.94, 0.92,\n",
       "        0.94, 0.32, 0.32, 0.92, 0.32, 0.98, 0.92, 1.  , 0.98]),\n",
       " 'split2_test_score': array([0.96, 0.96, 0.98, 0.96, 0.98, 0.96, 0.98, 0.96, 0.96, 0.94, 0.96,\n",
       "        0.96, 0.58, 0.32, 0.96, 0.58, 0.96, 0.96, 0.98, 0.96]),\n",
       " 'mean_test_score': array([0.96666667, 0.98      , 0.96666667, 0.98666667, 0.96666667,\n",
       "        0.96      , 0.96666667, 0.96      , 0.96      , 0.96      ,\n",
       "        0.96      , 0.96      , 0.52      , 0.32      , 0.94      ,\n",
       "        0.52      , 0.97333333, 0.94      , 0.99333333, 0.97333333]),\n",
       " 'std_test_score': array([0.00942809, 0.01632993, 0.01885618, 0.01885618, 0.01885618,\n",
       "        0.03265986, 0.03399346, 0.03265986, 0.03265986, 0.02828427,\n",
       "        0.03265986, 0.01632993, 0.14514361, 0.        , 0.01632993,\n",
       "        0.14514361, 0.00942809, 0.01632993, 0.00942809, 0.00942809]),\n",
       " 'rank_test_score': array([ 6,  3,  6,  2,  6, 10,  6, 10, 10, 10, 10, 10, 18, 20, 16, 18,  4,\n",
       "        16,  1,  4], dtype=int32)}"
      ]
     },
     "execution_count": 28,
     "metadata": {},
     "output_type": "execute_result"
    }
   ],
   "source": [
    "print(list(grid_search_svm.cv_results_.keys()))\n",
    "grid_search_svm.cv_results_"
   ]
  },
  {
   "cell_type": "markdown",
   "id": "technical-barrier",
   "metadata": {},
   "source": [
    "The best combination of parameters is:"
   ]
  },
  {
   "cell_type": "code",
   "execution_count": null,
   "id": "bearing-survival",
   "metadata": {},
   "outputs": [],
   "source": [
    "grid_search_svm.best_params_"
   ]
  },
  {
   "cell_type": "code",
   "execution_count": 29,
   "id": "silent-assessment",
   "metadata": {},
   "outputs": [
    {
     "data": {
      "text/plain": [
       "0.9933333333333333"
      ]
     },
     "execution_count": 29,
     "metadata": {},
     "output_type": "execute_result"
    }
   ],
   "source": [
    "grid_search_svm.best_score_"
   ]
  },
  {
   "cell_type": "code",
   "execution_count": 30,
   "id": "divine-award",
   "metadata": {},
   "outputs": [
    {
     "data": {
      "text/plain": [
       "0.98"
      ]
     },
     "execution_count": 30,
     "metadata": {},
     "output_type": "execute_result"
    }
   ],
   "source": [
    "## The performance on the original data set is:\n",
    "grid_search_svm.score(iris.data, iris.target)"
   ]
  },
  {
   "cell_type": "markdown",
   "id": "environmental-timber",
   "metadata": {},
   "source": [
    "It seems `best_score_` from grid search is better than the score on the whole training data. Does that make sense?"
   ]
  },
  {
   "cell_type": "code",
   "execution_count": 31,
   "id": "certified-notebook",
   "metadata": {},
   "outputs": [],
   "source": [
    "from sklearn.model_selection import GridSearchCV, StratifiedKFold\n",
    "lst1 = []\n",
    "lst2 = []\n",
    "for i in range(50):\n",
    "    index = np.random.choice(range(150), size=150, replace=False)\n",
    "    x = iris.data[index,:]\n",
    "    y = iris.target[index]\n",
    "    skf = StratifiedKFold(n_splits=3)\n",
    "    grid_search_svm = GridSearchCV(svm_model, grid_para_svm, scoring='accuracy', cv=skf)\n",
    "    grid_search_svm.fit(x, y)\n",
    "    lst1.append(grid_search_svm.best_score_)\n",
    "    lst2.append(grid_search_svm.score(x, y))"
   ]
  },
  {
   "cell_type": "code",
   "execution_count": 32,
   "id": "colored-remove",
   "metadata": {},
   "outputs": [
    {
     "name": "stdout",
     "output_type": "stream",
     "text": [
      "0.9792000000000002\n",
      "0.9838666666666666\n"
     ]
    }
   ],
   "source": [
    "print(np.mean(lst1))\n",
    "print(np.mean(lst2))"
   ]
  },
  {
   "cell_type": "markdown",
   "id": "nutritional-translation",
   "metadata": {},
   "source": [
    "<p><a name=\"GP\"></a></p>\n",
    "\n",
    "### Gaussian Processes\n",
    "\n",
    "#### Gaussian Process - Noiseless Case"
   ]
  },
  {
   "cell_type": "code",
   "execution_count": 33,
   "id": "opposed-roots",
   "metadata": {},
   "outputs": [],
   "source": [
    "import numpy as np\n",
    "from matplotlib import pyplot as plt\n",
    "\n",
    "from sklearn.gaussian_process import GaussianProcessRegressor\n",
    "from sklearn.gaussian_process.kernels import RBF, ConstantKernel as C"
   ]
  },
  {
   "cell_type": "code",
   "execution_count": 34,
   "id": "rotary-skirt",
   "metadata": {},
   "outputs": [],
   "source": [
    "np.random.seed(1)"
   ]
  },
  {
   "cell_type": "markdown",
   "id": "mediterranean-scott",
   "metadata": {},
   "source": [
    "#### Function to Predict"
   ]
  },
  {
   "cell_type": "code",
   "execution_count": 35,
   "id": "clear-stockholm",
   "metadata": {},
   "outputs": [],
   "source": [
    "def f(x):\n",
    "    return np.sin(x)"
   ]
  },
  {
   "cell_type": "markdown",
   "id": "determined-quilt",
   "metadata": {},
   "source": [
    "#### Observation Data X and Y"
   ]
  },
  {
   "cell_type": "code",
   "execution_count": 36,
   "id": "threatened-assembly",
   "metadata": {},
   "outputs": [],
   "source": [
    "X = np.atleast_2d([1., 3., 5., 6., 7., 8.,9.]).T\n",
    "y = f(X).ravel()"
   ]
  },
  {
   "cell_type": "markdown",
   "id": "handy-combining",
   "metadata": {},
   "source": [
    "#### For evaluation of the real function, the prediction, and its MSE\n",
    "\n",
    "1. Define x for evaluation\n",
    "2. Fit using GaussianPrecessRegressor (hyperparameters are adjustable, strongly encourage to look over them)\n",
    "3. Make Predictions (Posterior)"
   ]
  },
  {
   "cell_type": "code",
   "execution_count": 37,
   "id": "specialized-amateur",
   "metadata": {},
   "outputs": [],
   "source": [
    "x = np.atleast_2d(np.linspace(0, 10, 1000)).T"
   ]
  },
  {
   "cell_type": "markdown",
   "id": "smart-nelson",
   "metadata": {},
   "source": [
    "#### Initiate GP: Give the kernel trick\n",
    "I used the radial basis function kernel, a.k.a. RBF kernel, and the constant kernel. \n",
    "\n",
    "$K(x,x')=\\exp\\large({\\frac{-|| x-x'||^2}{2\\sigma^2}})$\n",
    "\n",
    "$K(x,x')=Ck(x,x')$ where $C>0$. \n",
    "\n",
    "For more information, visit https://scikit-learn.org/stable/modules/gaussian_process.html#gp-kernels. "
   ]
  },
  {
   "cell_type": "code",
   "execution_count": 38,
   "id": "qualified-emergency",
   "metadata": {},
   "outputs": [],
   "source": [
    "kernel = C(1.0, (1e-3, 1e3))*RBF(10, (1e-2, 1e2))\n",
    "gp = GaussianProcessRegressor(kernel=kernel, n_restarts_optimizer=20)"
   ]
  },
  {
   "cell_type": "markdown",
   "id": "tutorial-madrid",
   "metadata": {},
   "source": [
    "#### Fit Data"
   ]
  },
  {
   "cell_type": "code",
   "execution_count": 39,
   "id": "transparent-garage",
   "metadata": {},
   "outputs": [
    {
     "data": {
      "text/plain": [
       "GaussianProcessRegressor(kernel=1**2 * RBF(length_scale=10),\n",
       "                         n_restarts_optimizer=20)"
      ]
     },
     "execution_count": 39,
     "metadata": {},
     "output_type": "execute_result"
    }
   ],
   "source": [
    "gp.fit(X, y)"
   ]
  },
  {
   "cell_type": "code",
   "execution_count": 40,
   "id": "armed-sessions",
   "metadata": {},
   "outputs": [
    {
     "name": "stdout",
     "output_type": "stream",
     "text": [
      "0.8770247677218707\n",
      "0.043996926791621586\n"
     ]
    }
   ],
   "source": [
    "y_pred, sigma = gp.predict(x, return_std=True)\n",
    "MSE1 = np.square(np.subtract(f(x),y_pred)).mean() \n",
    "print(MSE1)\n",
    "print(np.mean(sigma))"
   ]
  },
  {
   "cell_type": "code",
   "execution_count": 41,
   "id": "extended-numbers",
   "metadata": {},
   "outputs": [
    {
     "data": {
      "image/png": "[encoded data removed]",
      "text/plain": [
       "<Figure size 576x432 with 1 Axes>"
      ]
     },
     "metadata": {
      "needs_background": "light"
     },
     "output_type": "display_data"
    }
   ],
   "source": [
    "plt.figure()\n",
    "plt.plot(x, f(x), 'r:', label=r'$f(x) = x\\,\\sin(x)$')\n",
    "plt.plot(X, y, 'r.', markersize=10, label='Observations')\n",
    "plt.plot(x, y_pred, 'b-', label='Prediction')\n",
    "plt.fill(np.concatenate([x, x[::-1]]),\n",
    "         np.concatenate([y_pred -  1.9600*sigma,\n",
    "                        (y_pred +  1.9600*sigma)[::-1]]),\n",
    "         alpha=.5, fc='b', ec='None', label='95% confidence interval')\n",
    "plt.xlabel('$x$')\n",
    "plt.ylabel('$f(x)$')\n",
    "plt.ylim(-2.5,2.5)\n",
    "plt.legend(loc='upper left')\n",
    "\n",
    "plt.show()"
   ]
  },
  {
   "cell_type": "code",
   "execution_count": 42,
   "id": "bound-palmer",
   "metadata": {},
   "outputs": [],
   "source": [
    "MSE1 = np.square(np.subtract(f(x),y_pred)).mean() "
   ]
  },
  {
   "cell_type": "code",
   "execution_count": 43,
   "id": "brave-modeling",
   "metadata": {},
   "outputs": [
    {
     "data": {
      "image/png": "[encoded data removed]",
      "text/plain": [
       "<Figure size 576x432 with 1 Axes>"
      ]
     },
     "metadata": {
      "needs_background": "light"
     },
     "output_type": "display_data"
    }
   ],
   "source": [
    "kernel = RBF(1, (1e-3, 1e3))\n",
    "gp = GaussianProcessRegressor(kernel=kernel, n_restarts_optimizer=10)\n",
    "gp.fit(X, y)\n",
    "y_pred, sigma = gp.predict(x, return_std=True)\n",
    "plt.figure()\n",
    "plt.plot(x, f(x), 'r:', label=r'$f(x) = x\\,\\sin(x)$')\n",
    "plt.plot(X, y, 'r.', markersize=10, label='Observations')\n",
    "plt.plot(x, y_pred, 'b-', label='Prediction')\n",
    "plt.fill(np.concatenate([x, x[::-1]]),\n",
    "         np.concatenate([y_pred - 1.9600*sigma,\n",
    "                        (y_pred +  1.9600*sigma)[::-1]]),\n",
    "         alpha=.5, fc='b', ec='None', label='95% confidence interval')\n",
    "plt.xlabel('$x$')\n",
    "plt.ylabel('$f(x)$')\n",
    "plt.ylim(-2.0, 2.5)\n",
    "plt.legend(loc='upper left')\n",
    "plt.show()"
   ]
  },
  {
   "cell_type": "code",
   "execution_count": 44,
   "id": "wicked-carbon",
   "metadata": {},
   "outputs": [],
   "source": [
    "MSE = np.square(np.subtract(f(x),y_pred)).mean() "
   ]
  },
  {
   "cell_type": "markdown",
   "id": "secondary-trigger",
   "metadata": {},
   "source": [
    "We have made two regressions using the combination of kernels and a single with the radial basis kernel. When we compare the two results, we find that they are not much different. It is because of the original function is simple. IF the functions get complicated, then sometimes, we may need multiple kernels be involved."
   ]
  },
  {
   "cell_type": "code",
   "execution_count": 45,
   "id": "based-syndicate",
   "metadata": {},
   "outputs": [
    {
     "name": "stdout",
     "output_type": "stream",
     "text": [
      "0.8770247677218707 0.8772404655382936\n"
     ]
    }
   ],
   "source": [
    "print(MSE1,MSE)"
   ]
  },
  {
   "cell_type": "code",
   "execution_count": null,
   "id": "unusual-crawford",
   "metadata": {},
   "outputs": [],
   "source": []
  }
 ],
 "metadata": {
  "kernelspec": {
   "display_name": "Python 3",
   "language": "python",
   "name": "python3"
  },
  "language_info": {
   "codemirror_mode": {
    "name": "ipython",
    "version": 3
   },
   "file_extension": ".py",
   "mimetype": "text/x-python",
   "name": "python",
   "nbconvert_exporter": "python",
   "pygments_lexer": "ipython3",
   "version": "3.8.3"
  }
 },
 "nbformat": 4,
 "nbformat_minor": 5
}
